{
 "cells": [
  {
   "cell_type": "code",
   "execution_count": 2,
   "metadata": {},
   "outputs": [],
   "source": [
    "import pandas as pd"
   ]
  },
  {
   "cell_type": "code",
   "execution_count": 3,
   "metadata": {},
   "outputs": [],
   "source": [
    "dados = pd.read_csv('votacao_secao_2018_BR_JP.csv', encoding='latin-1')"
   ]
  },
  {
   "cell_type": "code",
   "execution_count": 15,
   "metadata": {},
   "outputs": [
    {
     "data": {
      "text/plain": [
       "Index(['DT_GERACAO', 'HH_GERACAO', 'ANO_ELEICAO', 'CD_TIPO_ELEICAO',\n",
       "       'NM_TIPO_ELEICAO', 'NR_TURNO', 'CD_ELEICAO', 'DS_ELEICAO', 'DT_ELEICAO',\n",
       "       'TP_ABRANGENCIA', 'SG_UF', 'SG_UE', 'NM_UE', 'CD_MUNICIPIO',\n",
       "       'NM_MUNICIPIO', 'NR_ZONA', 'NR_SECAO', 'CD_CARGO', 'DS_CARGO',\n",
       "       'NR_VOTAVEL', 'NM_VOTAVEL', 'QT_VOTOS'],\n",
       "      dtype='object')"
      ]
     },
     "execution_count": 15,
     "metadata": {},
     "output_type": "execute_result"
    }
   ],
   "source": [
    "dados.columns"
   ]
  },
  {
   "cell_type": "code",
   "execution_count": 23,
   "metadata": {},
   "outputs": [
    {
     "data": {
      "text/plain": [
       "204456"
      ]
     },
     "execution_count": 23,
     "metadata": {},
     "output_type": "execute_result"
    }
   ],
   "source": [
    "dados['QT_VOTOS'].loc[dados['NM_VOTAVEL'] == 'JAIR MESSIAS BOLSONARO'].sum()"
   ]
  },
  {
   "cell_type": "code",
   "execution_count": 29,
   "metadata": {},
   "outputs": [
    {
     "data": {
      "text/plain": [
       "99614"
      ]
     },
     "execution_count": 29,
     "metadata": {},
     "output_type": "execute_result"
    }
   ],
   "source": [
    "numeroVotos = []\n",
    "numeroVotos.append(204456)\n",
    "\n",
    "dados['QT_VOTOS'].loc[dados['NM_VOTAVEL'] == 'FERNANDO HADDAD'].sum()"
   ]
  },
  {
   "cell_type": "code",
   "execution_count": 5,
   "metadata": {},
   "outputs": [],
   "source": [
    "import matplotlib.pyplot as plt"
   ]
  },
  {
   "cell_type": "code",
   "execution_count": 7,
   "metadata": {},
   "outputs": [
    {
     "name": "stdout",
     "output_type": "stream",
     "text": [
      "72007\n"
     ]
    }
   ],
   "source": [
    "votosCiro = dados['QT_VOTOS'].loc[dados['NM_VOTAVEL'] == 'CIRO FERREIRA GOMES'].sum()\n",
    "print(votosCiro)"
   ]
  },
  {
   "cell_type": "code",
   "execution_count": 8,
   "metadata": {
    "scrolled": true
   },
   "outputs": [
    {
     "data": {
      "image/png": "[encoded data removed]",
      "text/plain": [
       "<Figure size 432x288 with 1 Axes>"
      ]
     },
     "metadata": {
      "needs_background": "light"
     },
     "output_type": "display_data"
    }
   ],
   "source": [
    "candidatos = ['Jair Bolsonaro', 'Fernando Haddad']\n",
    "numeroVotos = [204456, 99614]\n",
    "\n",
    "plt.bar('Jair Bolsonaro', 204456, color='brown')\n",
    "plt.bar('Fernando Haddad', 99614, color='red')\n",
    "plt.bar('Ciro Gomes', votosCiro, color='purple')\n",
    "plt.xlabel('Candidatos')\n",
    "plt.ylabel('Nº de Votos')\n",
    "plt.grid(True)\n",
    "plt.title('Votação João Pessoa-PB 1º Turno')\n",
    "plt.show()"
   ]
  },
  {
   "cell_type": "code",
   "execution_count": 6,
   "metadata": {},
   "outputs": [],
   "source": [
    "dadosPatos = pd.read_csv('votacao_secao_2018_BR_PATOS_PB.csv', encoding='ISO-8859-1')"
   ]
  },
  {
   "cell_type": "code",
   "execution_count": 26,
   "metadata": {},
   "outputs": [
    {
     "name": "stdout",
     "output_type": "stream",
     "text": [
      "15823.0\n"
     ]
    }
   ],
   "source": [
    "votosBolso = dadosPatos['QT_VOTOS'].loc[dadosPatos['NM_VOTAVEL'] == 'JAIR MESSIAS BOLSONARO'].sum() / 2\n",
    "print(votosBolso)"
   ]
  },
  {
   "cell_type": "code",
   "execution_count": 27,
   "metadata": {},
   "outputs": [
    {
     "name": "stdout",
     "output_type": "stream",
     "text": [
      "17707.0\n"
     ]
    }
   ],
   "source": [
    "votosHaddad = dadosPatos['QT_VOTOS'].loc[dadosPatos['NM_VOTAVEL'] == 'FERNANDO HADDAD'].sum() / 2\n",
    "print(votosHaddad)"
   ]
  },
  {
   "cell_type": "code",
   "execution_count": 28,
   "metadata": {},
   "outputs": [
    {
     "name": "stdout",
     "output_type": "stream",
     "text": [
      "12013.0\n"
     ]
    }
   ],
   "source": [
    "votosCiro = dadosPatos['QT_VOTOS'].loc[dadosPatos['NM_VOTAVEL'] == 'CIRO FERREIRA GOMES'].sum() / 2\n",
    "print(votosCiro)"
   ]
  },
  {
   "cell_type": "code",
   "execution_count": 17,
   "metadata": {},
   "outputs": [
    {
     "data": {
      "text/plain": [
       "Text(0.5, 1.0, 'Votação Patos-PB 1º Turno')"
      ]
     },
     "execution_count": 17,
     "metadata": {},
     "output_type": "execute_result"
    },
    {
     "data": {
      "image/png": "[encoded data removed]",
      "text/plain": [
       "<Figure size 432x288 with 1 Axes>"
      ]
     },
     "metadata": {
      "needs_background": "light"
     },
     "output_type": "display_data"
    }
   ],
   "source": [
    "plt.bar('Mizera Bolsonaro', votosBolso, width=0.5, color='brown')\n",
    "plt.bar('Fernando Haddad', votosHaddad, width=0.5, color='red')\n",
    "plt.bar('Ciro Gomes', votosCiro, width=0.5, color='purple')\n",
    "plt.grid(True)\n",
    "plt.xlabel('Candidatos')\n",
    "plt.ylabel('Nº de Votos')\n",
    "plt.title('Votação Patos-PB 1º Turno')"
   ]
  },
  {
   "cell_type": "code",
   "execution_count": 18,
   "metadata": {},
   "outputs": [],
   "source": [
    "dadosCampina = pd.read_csv('votacao_secao_2018_BR_CG.csv', encoding='ISO-8859-1')"
   ]
  },
  {
   "cell_type": "code",
   "execution_count": 30,
   "metadata": {},
   "outputs": [
    {
     "name": "stdout",
     "output_type": "stream",
     "text": [
      "110542.0\n",
      "45065.0\n",
      "42711.0\n"
     ]
    }
   ],
   "source": [
    "votosBolso = dadosCampina['QT_VOTOS'].loc[dadosCampina['NR_VOTAVEL'] == 17].sum() / 2\n",
    "votosHaddad = dadosCampina['QT_VOTOS'].loc[dadosCampina['NR_VOTAVEL'] == 13].sum() / 2\n",
    "votosCiro = dadosCampina['QT_VOTOS'].loc[dadosCampina['NR_VOTAVEL'] == 12].sum() / 2\n",
    "print(votosBolso)\n",
    "print(votosHaddad)\n",
    "print(votosCiro)"
   ]
  },
  {
   "cell_type": "code",
   "execution_count": 22,
   "metadata": {},
   "outputs": [
    {
     "data": {
      "image/png": "[encoded data removed]",
      "text/plain": [
       "<Figure size 432x288 with 1 Axes>"
      ]
     },
     "metadata": {
      "needs_background": "light"
     },
     "output_type": "display_data"
    }
   ],
   "source": [
    "plt.bar('Jair Bolsonaro', votosBolso, width=0.5, color='brown')\n",
    "plt.bar('Fernando Haddad', votosHaddad, width=0.5, color='red')\n",
    "plt.bar('Ciro Gomes', votosCiro, width=0.5, color='purple')\n",
    "plt.grid(True)\n",
    "plt.xlabel('Candidatos')\n",
    "plt.ylabel('Nº de Votos')\n",
    "plt.title('Votação Campina Grande-PB 1º Turno')\n",
    "plt.show()"
   ]
  },
  {
   "cell_type": "code",
   "execution_count": 31,
   "metadata": {},
   "outputs": [],
   "source": [
    "votospbJair = 204456 + 110542 + 15823\n",
    "votospbHaddad = 99614 + 45065 + 17707\n",
    "votospbCiro = 72007 + 42711 + 12013"
   ]
  },
  {
   "cell_type": "code",
   "execution_count": 32,
   "metadata": {},
   "outputs": [
    {
     "data": {
      "image/png": "[encoded data removed]",
      "text/plain": [
       "<Figure size 432x288 with 1 Axes>"
      ]
     },
     "metadata": {
      "needs_background": "light"
     },
     "output_type": "display_data"
    }
   ],
   "source": [
    "plt.bar('Jair Bolsonaro', votospbJair, width=0.5, color='brown')\n",
    "plt.bar('Fernando Haddad', votospbHaddad, width=0.5, color='red')\n",
    "plt.bar('Ciro Gomes', votospbCiro, width=0.5, color='purple')\n",
    "plt.grid(True)\n",
    "plt.xlabel('Candidatos')\n",
    "plt.ylabel('Nº de Votos')\n",
    "plt.title('Somatório dos votos dos 3 principais colégios eleitorais da PB: JP, CG, PATOS - 1º Turno')\n",
    "plt.show()"
   ]
  }
 ],
 "metadata": {
  "kernelspec": {
   "display_name": "Python 3",
   "language": "python",
   "name": "python3"
  },
  "language_info": {
   "codemirror_mode": {
    "name": "ipython",
    "version": 3
   },
   "file_extension": ".py",
   "mimetype": "text/x-python",
   "name": "python",
   "nbconvert_exporter": "python",
   "pygments_lexer": "ipython3",
   "version": "3.6.5"
  }
 },
 "nbformat": 4,
 "nbformat_minor": 2
}
