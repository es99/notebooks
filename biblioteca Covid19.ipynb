{
 "cells": [
  {
   "cell_type": "code",
   "execution_count": 34,
   "metadata": {},
   "outputs": [],
   "source": [
    "from covid import Covid\n",
    "import datetime"
   ]
  },
  {
   "cell_type": "code",
   "execution_count": 3,
   "metadata": {},
   "outputs": [],
   "source": [
    "#Criando um objeto da classe Covid\n",
    "covid = Covid()"
   ]
  },
  {
   "cell_type": "code",
   "execution_count": 6,
   "metadata": {},
   "outputs": [
    {
     "name": "stdout",
     "output_type": "stream",
     "text": [
      "_Covid__get_all_cases\n",
      "_Covid__get_total_by_case\n",
      "_Covid__get_total_cases_by_country_id\n",
      "__class__\n",
      "__delattr__\n",
      "__dict__\n",
      "__dir__\n",
      "__doc__\n",
      "__eq__\n",
      "__format__\n",
      "__ge__\n",
      "__getattribute__\n",
      "__gt__\n",
      "__hash__\n",
      "__init__\n",
      "__init_subclass__\n",
      "__le__\n",
      "__lt__\n",
      "__module__\n",
      "__ne__\n",
      "__new__\n",
      "__reduce__\n",
      "__reduce_ex__\n",
      "__repr__\n",
      "__setattr__\n",
      "__sizeof__\n",
      "__str__\n",
      "__subclasshook__\n",
      "__weakref__\n",
      "get_data\n",
      "get_status_by_country_id\n",
      "get_status_by_country_name\n",
      "get_total_active_cases\n",
      "get_total_confirmed_cases\n",
      "get_total_deaths\n",
      "get_total_recovered\n",
      "list_countries\n",
      "source\n"
     ]
    }
   ],
   "source": [
    "#mostrar todos os métodos disponíveis dentro do objeto covid\n",
    "for modules in dir(covid):\n",
    "    print(modules)"
   ]
  },
  {
   "cell_type": "code",
   "execution_count": 26,
   "metadata": {},
   "outputs": [],
   "source": [
    "\"\"\"\n",
    "Caso queira extrair dados globais, poderemos criar uma função com este propósito, utilizando os métodos:\n",
    "get_total_active_cases\n",
    "get_total_confirmed_cases\n",
    "get_total_deaths\n",
    "get_total_recovered\n",
    "\"\"\"\n",
    "def dados_globais():\n",
    "    print('Casos confirmados: {}'.format(covid.get_total_confirmed_cases()))\n",
    "    print('Casos ativos: {}'.format(covid.get_total_active_cases()))\n",
    "    print('Total de mortes: {}'.format(covid.get_total_deaths()))\n",
    "    print('Total de Recuperados: {}'.format(covid.get_total_recovered()))"
   ]
  },
  {
   "cell_type": "code",
   "execution_count": 27,
   "metadata": {},
   "outputs": [
    {
     "name": "stdout",
     "output_type": "stream",
     "text": [
      "Casos confirmados: 5435789\n",
      "Casos ativos: 2933679\n",
      "Total de mortes: 345467\n",
      "Total de Recuperados: 2184995\n"
     ]
    }
   ],
   "source": [
    "#Chamando a função\n",
    "dados_globais()"
   ]
  },
  {
   "cell_type": "code",
   "execution_count": 29,
   "metadata": {},
   "outputs": [
    {
     "data": {
      "text/plain": [
       "[{'id': '18', 'name': 'US'},\n",
       " {'id': '22', 'name': 'Brazil'},\n",
       " {'id': '14', 'name': 'Russia'},\n",
       " {'id': '17', 'name': 'United Kingdom'},\n",
       " {'id': '19', 'name': 'Spain'},\n",
       " {'id': '11', 'name': 'Italy'},\n",
       " {'id': '7', 'name': 'France'},\n",
       " {'id': '8', 'name': 'Germany'},\n",
       " {'id': '176', 'name': 'Turkey'},\n",
       " {'id': '91', 'name': 'India'},\n",
       " {'id': '93', 'name': 'Iran'},\n",
       " {'id': '141', 'name': 'Peru'},\n",
       " {'id': '3', 'name': 'Canada'},\n",
       " {'id': '4', 'name': 'China'},\n",
       " {'id': '153', 'name': 'Saudi Arabia'},\n",
       " {'id': '21', 'name': 'Chile'},\n",
       " {'id': '20', 'name': 'Mexico'},\n",
       " {'id': '37', 'name': 'Belgium'},\n",
       " {'id': '137', 'name': 'Pakistan'},\n",
       " {'id': '12', 'name': 'Netherlands'},\n",
       " {'id': '145', 'name': 'Qatar'},\n",
       " {'id': '36', 'name': 'Belarus'},\n",
       " {'id': '68', 'name': 'Ecuador'},\n",
       " {'id': '34', 'name': 'Bangladesh'},\n",
       " {'id': '15', 'name': 'Sweden'},\n",
       " {'id': '158', 'name': 'Singapore'},\n",
       " {'id': '144', 'name': 'Portugal'},\n",
       " {'id': '16', 'name': 'Switzerland'},\n",
       " {'id': '179', 'name': 'United Arab Emirates'},\n",
       " {'id': '10', 'name': 'Ireland'},\n",
       " {'id': '92', 'name': 'Indonesia'},\n",
       " {'id': '162', 'name': 'South Africa'},\n",
       " {'id': '103', 'name': 'Kuwait'},\n",
       " {'id': '143', 'name': 'Poland'},\n",
       " {'id': '178', 'name': 'Ukraine'},\n",
       " {'id': '54', 'name': 'Colombia'},\n",
       " {'id': '146', 'name': 'Romania'},\n",
       " {'id': '69', 'name': 'Egypt'},\n",
       " {'id': '95', 'name': 'Israel'},\n",
       " {'id': '97', 'name': 'Japan'},\n",
       " {'id': '2', 'name': 'Austria'},\n",
       " {'id': '67', 'name': 'Dominican Republic'},\n",
       " {'id': '142', 'name': 'Philippines'},\n",
       " {'id': '29', 'name': 'Argentina'},\n",
       " {'id': '5', 'name': 'Denmark'},\n",
       " {'id': '101', 'name': 'Korea, South'},\n",
       " {'id': '155', 'name': 'Serbia'},\n",
       " {'id': '23', 'name': 'Afghanistan'},\n",
       " {'id': '138', 'name': 'Panama'},\n",
       " {'id': '33', 'name': 'Bahrain'},\n",
       " {'id': '63', 'name': 'Czechia'},\n",
       " {'id': '99', 'name': 'Kazakhstan'},\n",
       " {'id': '13', 'name': 'Norway'},\n",
       " {'id': '25', 'name': 'Algeria'},\n",
       " {'id': '134', 'name': 'Nigeria'},\n",
       " {'id': '136', 'name': 'Oman'},\n",
       " {'id': '127', 'name': 'Morocco'},\n",
       " {'id': '117', 'name': 'Malaysia'},\n",
       " {'id': '1', 'name': 'Australia'},\n",
       " {'id': '30', 'name': 'Armenia'},\n",
       " {'id': '123', 'name': 'Moldova'},\n",
       " {'id': '80', 'name': 'Ghana'},\n",
       " {'id': '6', 'name': 'Finland'},\n",
       " {'id': '41', 'name': 'Bolivia'},\n",
       " {'id': '51', 'name': 'Cameroon'},\n",
       " {'id': '94', 'name': 'Iraq'},\n",
       " {'id': '31', 'name': 'Azerbaijan'},\n",
       " {'id': '113', 'name': 'Luxembourg'},\n",
       " {'id': '89', 'name': 'Honduras'},\n",
       " {'id': '165', 'name': 'Sudan'},\n",
       " {'id': '90', 'name': 'Hungary'},\n",
       " {'id': '83', 'name': 'Guatemala'},\n",
       " {'id': '84', 'name': 'Guinea'},\n",
       " {'id': '181', 'name': 'Uzbekistan'},\n",
       " {'id': '154', 'name': 'Senegal'},\n",
       " {'id': '171', 'name': 'Thailand'},\n",
       " {'id': '169', 'name': 'Tajikistan'},\n",
       " {'id': '81', 'name': 'Greece'},\n",
       " {'id': '45', 'name': 'Bulgaria'},\n",
       " {'id': '42', 'name': 'Bosnia and Herzegovina'},\n",
       " {'id': '59', 'name': \"Cote d'Ivoire\"},\n",
       " {'id': '65', 'name': 'Djibouti'},\n",
       " {'id': '60', 'name': 'Croatia'},\n",
       " {'id': '57', 'name': 'Congo (Kinshasa)'},\n",
       " {'id': '135', 'name': 'North Macedonia'},\n",
       " {'id': '70', 'name': 'El Salvador'},\n",
       " {'id': '61', 'name': 'Cuba'},\n",
       " {'id': '77', 'name': 'Gabon'},\n",
       " {'id': '73', 'name': 'Estonia'},\n",
       " {'id': '9', 'name': 'Iceland'},\n",
       " {'id': '112', 'name': 'Lithuania'},\n",
       " {'id': '161', 'name': 'Somalia'},\n",
       " {'id': '159', 'name': 'Slovakia'},\n",
       " {'id': '131', 'name': 'New Zealand'},\n",
       " {'id': '160', 'name': 'Slovenia'},\n",
       " {'id': '104', 'name': 'Kyrgyzstan'},\n",
       " {'id': '118', 'name': 'Maldives'},\n",
       " {'id': '100', 'name': 'Kenya'},\n",
       " {'id': '164', 'name': 'Sri Lanka'},\n",
       " {'id': '182', 'name': 'Venezuela'},\n",
       " {'id': '107', 'name': 'Lebanon'},\n",
       " {'id': '85', 'name': 'Guinea-Bissau'},\n",
       " {'id': '119', 'name': 'Mali'},\n",
       " {'id': '175', 'name': 'Tunisia'},\n",
       " {'id': '106', 'name': 'Latvia'},\n",
       " {'id': '71', 'name': 'Equatorial Guinea'},\n",
       " {'id': '102', 'name': 'Kosovo'},\n",
       " {'id': '24', 'name': 'Albania'},\n",
       " {'id': '87', 'name': 'Haiti'},\n",
       " {'id': '133', 'name': 'Niger'},\n",
       " {'id': '62', 'name': 'Cyprus'},\n",
       " {'id': '58', 'name': 'Costa Rica'},\n",
       " {'id': '187', 'name': 'Zambia'},\n",
       " {'id': '140', 'name': 'Paraguay'},\n",
       " {'id': '46', 'name': 'Burkina Faso'},\n",
       " {'id': '180', 'name': 'Uruguay'},\n",
       " {'id': '26', 'name': 'Andorra'},\n",
       " {'id': '157', 'name': 'Sierra Leone'},\n",
       " {'id': '79', 'name': 'Georgia'},\n",
       " {'id': '64', 'name': 'Diamond Princess'},\n",
       " {'id': '98', 'name': 'Jordan'},\n",
       " {'id': '130', 'name': 'Nepal'},\n",
       " {'id': '53', 'name': 'Chad'},\n",
       " {'id': '151', 'name': 'San Marino'},\n",
       " {'id': '75', 'name': 'Ethiopia'},\n",
       " {'id': '163', 'name': 'South Sudan'},\n",
       " {'id': '120', 'name': 'Malta'},\n",
       " {'id': '52', 'name': 'Central African Republic'},\n",
       " {'id': '96', 'name': 'Jamaica'},\n",
       " {'id': '115', 'name': 'Madagascar'},\n",
       " {'id': '170', 'name': 'Tanzania'},\n",
       " {'id': '56', 'name': 'Congo (Brazzaville)'},\n",
       " {'id': '168', 'name': 'Taiwan*'},\n",
       " {'id': '184', 'name': 'West Bank and Gaza'},\n",
       " {'id': '49', 'name': 'Cabo Verde'},\n",
       " {'id': '173', 'name': 'Togo'},\n",
       " {'id': '122', 'name': 'Mauritius'},\n",
       " {'id': '147', 'name': 'Rwanda'},\n",
       " {'id': '183', 'name': 'Vietnam'},\n",
       " {'id': '126', 'name': 'Montenegro'},\n",
       " {'id': '152', 'name': 'Sao Tome and Principe'},\n",
       " {'id': '132', 'name': 'Nicaragua'},\n",
       " {'id': '109', 'name': 'Liberia'},\n",
       " {'id': '74', 'name': 'Eswatini'},\n",
       " {'id': '121', 'name': 'Mauritania'},\n",
       " {'id': '186', 'name': 'Yemen'},\n",
       " {'id': '177', 'name': 'Uganda'},\n",
       " {'id': '47', 'name': 'Burma'},\n",
       " {'id': '128', 'name': 'Mozambique'},\n",
       " {'id': '39', 'name': 'Benin'},\n",
       " {'id': '44', 'name': 'Brunei'},\n",
       " {'id': '125', 'name': 'Mongolia'},\n",
       " {'id': '86', 'name': 'Guyana'},\n",
       " {'id': '50', 'name': 'Cambodia'},\n",
       " {'id': '174', 'name': 'Trinidad and Tobago'},\n",
       " {'id': '167', 'name': 'Syria'},\n",
       " {'id': '116', 'name': 'Malawi'},\n",
       " {'id': '32', 'name': 'Bahamas'},\n",
       " {'id': '124', 'name': 'Monaco'},\n",
       " {'id': '35', 'name': 'Barbados'},\n",
       " {'id': '55', 'name': 'Comoros'},\n",
       " {'id': '111', 'name': 'Liechtenstein'},\n",
       " {'id': '110', 'name': 'Libya'},\n",
       " {'id': '27', 'name': 'Angola'},\n",
       " {'id': '188', 'name': 'Zimbabwe'},\n",
       " {'id': '48', 'name': 'Burundi'},\n",
       " {'id': '72', 'name': 'Eritrea'},\n",
       " {'id': '43', 'name': 'Botswana'},\n",
       " {'id': '40', 'name': 'Bhutan'},\n",
       " {'id': '28', 'name': 'Antigua and Barbuda'},\n",
       " {'id': '78', 'name': 'Gambia'},\n",
       " {'id': '172', 'name': 'Timor-Leste'},\n",
       " {'id': '82', 'name': 'Grenada'},\n",
       " {'id': '129', 'name': 'Namibia'},\n",
       " {'id': '105', 'name': 'Laos'},\n",
       " {'id': '38', 'name': 'Belize'},\n",
       " {'id': '76', 'name': 'Fiji'},\n",
       " {'id': '149', 'name': 'Saint Lucia'},\n",
       " {'id': '150', 'name': 'Saint Vincent and the Grenadines'},\n",
       " {'id': '66', 'name': 'Dominica'},\n",
       " {'id': '148', 'name': 'Saint Kitts and Nevis'},\n",
       " {'id': '88', 'name': 'Holy See'},\n",
       " {'id': '156', 'name': 'Seychelles'},\n",
       " {'id': '166', 'name': 'Suriname'},\n",
       " {'id': '114', 'name': 'MS Zaandam'},\n",
       " {'id': '185', 'name': 'Western Sahara'},\n",
       " {'id': '139', 'name': 'Papua New Guinea'},\n",
       " {'id': '108', 'name': 'Lesotho'}]"
      ]
     },
     "execution_count": 29,
     "metadata": {},
     "output_type": "execute_result"
    }
   ],
   "source": [
    "#utilizando o método list_countries() para mostrar a lista dos países disponíveis para se extrair dados\n",
    "covid.list_countries()"
   ]
  },
  {
   "cell_type": "code",
   "execution_count": 32,
   "metadata": {},
   "outputs": [
    {
     "data": {
      "text/plain": [
       "{'id': '22',\n",
       " 'country': 'Brazil',\n",
       " 'confirmed': 363211,\n",
       " 'active': 190634,\n",
       " 'deaths': 22666,\n",
       " 'recovered': 149911,\n",
       " 'latitude': -14.235,\n",
       " 'longitude': -51.9253,\n",
       " 'last_update': 1590413563000}"
      ]
     },
     "execution_count": 32,
     "metadata": {},
     "output_type": "execute_result"
    }
   ],
   "source": [
    "\"\"\"\n",
    "É possível extrair dados pelo nome do país ou pelo ID baseado na lista acima e nos métodos:\n",
    "get_status_by_country_id\n",
    "get_status_by_country_name\n",
    "\"\"\"\n",
    "covid.get_status_by_country_id(22)"
   ]
  },
  {
   "cell_type": "code",
   "execution_count": 33,
   "metadata": {},
   "outputs": [
    {
     "data": {
      "text/plain": [
       "{'id': '22',\n",
       " 'country': 'Brazil',\n",
       " 'confirmed': 363211,\n",
       " 'active': 190634,\n",
       " 'deaths': 22666,\n",
       " 'recovered': 149911,\n",
       " 'latitude': -14.235,\n",
       " 'longitude': -51.9253,\n",
       " 'last_update': 1590413563000}"
      ]
     },
     "execution_count": 33,
     "metadata": {},
     "output_type": "execute_result"
    }
   ],
   "source": [
    "covid.get_status_by_country_name('Brazil')"
   ]
  },
  {
   "cell_type": "code",
   "execution_count": 40,
   "metadata": {},
   "outputs": [],
   "source": [
    "data = datetime.datetime.fromtimestamp(1590413563)"
   ]
  },
  {
   "cell_type": "code",
   "execution_count": 41,
   "metadata": {},
   "outputs": [
    {
     "data": {
      "text/plain": [
       "datetime.datetime(2020, 5, 25, 13, 32, 43)"
      ]
     },
     "execution_count": 41,
     "metadata": {},
     "output_type": "execute_result"
    }
   ],
   "source": [
    "data"
   ]
  },
  {
   "cell_type": "code",
   "execution_count": 43,
   "metadata": {},
   "outputs": [
    {
     "data": {
      "text/plain": [
       "13"
      ]
     },
     "execution_count": 43,
     "metadata": {},
     "output_type": "execute_result"
    }
   ],
   "source": [
    "data.hour"
   ]
  },
  {
   "cell_type": "code",
   "execution_count": 45,
   "metadata": {},
   "outputs": [
    {
     "data": {
      "text/plain": [
       "32"
      ]
     },
     "execution_count": 45,
     "metadata": {},
     "output_type": "execute_result"
    }
   ],
   "source": [
    "data.minute"
   ]
  },
  {
   "cell_type": "code",
   "execution_count": 46,
   "metadata": {},
   "outputs": [
    {
     "data": {
      "text/plain": [
       "43"
      ]
     },
     "execution_count": 46,
     "metadata": {},
     "output_type": "execute_result"
    }
   ],
   "source": [
    "data.second"
   ]
  },
  {
   "cell_type": "code",
   "execution_count": 47,
   "metadata": {},
   "outputs": [
    {
     "data": {
      "text/plain": [
       "'25/05/2020 - 13:32:43'"
      ]
     },
     "execution_count": 47,
     "metadata": {},
     "output_type": "execute_result"
    }
   ],
   "source": [
    "data.strftime(\"%d/%m/%Y - %H:%M:%S\")"
   ]
  },
  {
   "cell_type": "code",
   "execution_count": 48,
   "metadata": {},
   "outputs": [],
   "source": [
    "#retorna um dicionario com os dados do Brasil\n",
    "brasil = covid.get_status_by_country_name('Brazil')"
   ]
  },
  {
   "cell_type": "code",
   "execution_count": 49,
   "metadata": {},
   "outputs": [],
   "source": [
    "#uma funçao que recebe como parâmetro um dicionario e trata os dados para exibicao\n",
    "def mostra_pais(dicionario):\n",
    "    confirmados = dicionario['confirmed']\n",
    "    ativos = dicionario['active']\n",
    "    mortes = dicionario['deaths']\n",
    "    recuperados = dicionario['recovered']\n",
    "    print('Confirmados: {}\\nAtivos: {}\\nMortes: {}\\nRecuperados: {}'\\\n",
    "         .format(confirmados, ativos, mortes, recuperados))\n",
    "    "
   ]
  },
  {
   "cell_type": "code",
   "execution_count": 51,
   "metadata": {},
   "outputs": [
    {
     "name": "stdout",
     "output_type": "stream",
     "text": [
      "Confirmados: 363211\n",
      "Ativos: 190634\n",
      "Mortes: 22666\n",
      "Recuperados: 149911\n"
     ]
    }
   ],
   "source": [
    "#a função é chamada e é passado como argumento o dicionario\n",
    "mostra_pais(brasil)"
   ]
  },
  {
   "cell_type": "code",
   "execution_count": 52,
   "metadata": {},
   "outputs": [],
   "source": [
    "#Exemplo utilizando a Argentina\n",
    "argentina = covid.get_status_by_country_name('Argentina')"
   ]
  },
  {
   "cell_type": "code",
   "execution_count": 53,
   "metadata": {},
   "outputs": [
    {
     "name": "stdout",
     "output_type": "stream",
     "text": [
      "Confirmados: 12076\n",
      "Ativos: 7621\n",
      "Mortes: 456\n",
      "Recuperados: 3999\n"
     ]
    }
   ],
   "source": [
    "mostra_pais(argentina)"
   ]
  },
  {
   "cell_type": "code",
   "execution_count": 55,
   "metadata": {},
   "outputs": [],
   "source": [
    "uruguai = covid.get_status_by_country_name('Uruguay')"
   ]
  },
  {
   "cell_type": "code",
   "execution_count": 57,
   "metadata": {},
   "outputs": [
    {
     "name": "stdout",
     "output_type": "stream",
     "text": [
      "Confirmados: 769\n",
      "Ativos: 129\n",
      "Mortes: 22\n",
      "Recuperados: 618\n"
     ]
    }
   ],
   "source": [
    "#Exemplo do uso da função que recebe como argumento dicionario referente ao Uruguai\n",
    "mostra_pais(uruguai)"
   ]
  },
  {
   "cell_type": "code",
   "execution_count": null,
   "metadata": {},
   "outputs": [],
   "source": []
  }
 ],
 "metadata": {
  "kernelspec": {
   "display_name": "Python 3",
   "language": "python",
   "name": "python3"
  },
  "language_info": {
   "codemirror_mode": {
    "name": "ipython",
    "version": 3
   },
   "file_extension": ".py",
   "mimetype": "text/x-python",
   "name": "python",
   "nbconvert_exporter": "python",
   "pygments_lexer": "ipython3",
   "version": "3.7.6"
  }
 },
 "nbformat": 4,
 "nbformat_minor": 4
}
